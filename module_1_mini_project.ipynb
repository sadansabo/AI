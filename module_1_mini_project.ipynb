{
  "cells": [
    {
      "cell_type": "markdown",
      "metadata": {
        "id": "view-in-github",
        "colab_type": "text"
      },
      "source": [
        "<a href=\"https://colab.research.google.com/github/sadansabo/AI/blob/main/module_1_mini_project.ipynb\" target=\"_parent\"><img src=\"https://colab.research.google.com/assets/colab-badge.svg\" alt=\"Open In Colab\"/></a>"
      ]
    },
    {
      "cell_type": "markdown",
      "id": "dc8fe134",
      "metadata": {
        "id": "dc8fe134"
      },
      "source": [
        "# Mini Project: Perform Multiple Linear Regression\n",
        "\n",
        "## Overview\n",
        "This project focuses on using multiple linear regression to analyze the relationship between sales and various marketing promotion strategies. By leveraging multiple independent variables, such as TV, social media, radio, and influencer promotions, we aim to build a predictive model that estimates sales based on these factors. This project will cover the complete data science pipeline, including data exploration, preprocessing, model building, evaluation, and interpretation.\n",
        "\n",
        "## Objective\n",
        "Develop a multiple linear regression model to predict sales based on marketing promotion data. The project will involve exploring the dataset, selecting relevant independent variables, fitting the model, checking assumptions, and interpreting the results to provide actionable insights.\n",
        "\n",
        "## Learning Outcomes\n",
        "1. Understand the concept of multiple linear regression and its applications.\n",
        "2. Learn to preprocess and explore data for regression analysis.\n",
        "3. Gain experience in fitting and evaluating a multiple linear regression model.\n",
        "4. Check and validate regression assumptions.\n",
        "5. Interpret model coefficients and communicate results to stakeholders.\n",
        "\n",
        "---"
      ]
    },
    {
      "cell_type": "markdown",
      "id": "8b2dee21",
      "metadata": {
        "id": "8b2dee21"
      },
      "source": [
        "\n",
        "## Step 1: Define the Problem\n",
        "### Task:\n",
        "Understand the problem and its real-world implications. The goal is to predict sales based on various marketing promotion strategies, which can help the business optimize its marketing efforts and allocate resources effectively.\n",
        "\n",
        "### Mini-task:\n",
        "Write a brief paragraph on how predicting sales using multiple linear regression can benefit the business.\n",
        "\n",
        "---"
      ]
    },
    {
      "cell_type": "markdown",
      "id": "7106724e",
      "metadata": {
        "id": "7106724e"
      },
      "source": []
    },
    {
      "cell_type": "markdown",
      "id": "2bfd85e2",
      "metadata": {
        "id": "2bfd85e2"
      },
      "source": [
        "## Step 2: Data Collection\n",
        "### Task:\n",
        "Collect the dataset required for building the regression model. The dataset used in this project is `marketing_sales_data.csv`, which contains information about TV, social media, radio, and influencer promotions, along with sales data.\n",
        "\n",
        "### Mini-task:\n",
        "Load the dataset and inspect the first few rows to understand its structure.\n",
        "\n",
        "#### Hint:\n",
        "Use the `pandas` library to load the dataset and display the first five rows.\n",
        "\n",
        "```python\n",
        "import pandas as pd\n",
        "\n",
        "# Load the dataset\n",
        "data = pd.read_csv('marketing_sales_data.csv')\n",
        "\n",
        "# Display the first five rows\n",
        "### YOUR CODE HERE ###\n",
        "```\n",
        "\n",
        "---"
      ]
    },
    {
      "cell_type": "code",
      "execution_count": null,
      "id": "38eff14e",
      "metadata": {
        "id": "38eff14e"
      },
      "outputs": [],
      "source": []
    },
    {
      "cell_type": "code",
      "source": [
        "# Import Data Files from Google Drive\n",
        "\n",
        "import requests\n",
        "import pandas as pd\n",
        "from io import StringIO\n",
        "def read_gd(sharingurl):\n",
        "    file_id = sharingurl.split('/')[-2]\n",
        "    download_url='https://drive.google.com/uc?export=download&id=' + file_id\n",
        "    url = requests.get(download_url).text\n",
        "    csv_raw = StringIO(url)\n",
        "    return csv_raw\n",
        "\n",
        "url = \"https://drive.google.com/file/d/1WChLou3qt_JaPjYLZBMHJ8WxSssQ-enL/view?usp=drive_link\"\n",
        "gdd = read_gd(url)\n",
        "\n",
        "df = pd.read_csv(gdd)\n",
        "\n",
        "df.head()"
      ],
      "metadata": {
        "colab": {
          "base_uri": "https://localhost:8080/",
          "height": 206
        },
        "id": "9bidQh4W4mAk",
        "outputId": "d42a2225-fc37-445c-e779-b962bea09c33"
      },
      "id": "9bidQh4W4mAk",
      "execution_count": null,
      "outputs": [
        {
          "output_type": "execute_result",
          "data": {
            "text/plain": [
              "       TV      Radio  Social Media Influencer       Sales\n",
              "0     Low   3.518070      2.293790      Micro   55.261284\n",
              "1     Low   7.756876      2.572287       Mega   67.574904\n",
              "2    High  20.348988      1.227180      Micro  272.250108\n",
              "3  Medium  20.108487      2.728374       Mega  195.102176\n",
              "4    High  31.653200      7.776978       Nano  273.960377"
            ],
            "text/html": [
              "\n",
              "  <div id=\"df-41e0d496-1556-4216-b028-5bd919d52a57\" class=\"colab-df-container\">\n",
              "    <div>\n",
              "<style scoped>\n",
              "    .dataframe tbody tr th:only-of-type {\n",
              "        vertical-align: middle;\n",
              "    }\n",
              "\n",
              "    .dataframe tbody tr th {\n",
              "        vertical-align: top;\n",
              "    }\n",
              "\n",
              "    .dataframe thead th {\n",
              "        text-align: right;\n",
              "    }\n",
              "</style>\n",
              "<table border=\"1\" class=\"dataframe\">\n",
              "  <thead>\n",
              "    <tr style=\"text-align: right;\">\n",
              "      <th></th>\n",
              "      <th>TV</th>\n",
              "      <th>Radio</th>\n",
              "      <th>Social Media</th>\n",
              "      <th>Influencer</th>\n",
              "      <th>Sales</th>\n",
              "    </tr>\n",
              "  </thead>\n",
              "  <tbody>\n",
              "    <tr>\n",
              "      <th>0</th>\n",
              "      <td>Low</td>\n",
              "      <td>3.518070</td>\n",
              "      <td>2.293790</td>\n",
              "      <td>Micro</td>\n",
              "      <td>55.261284</td>\n",
              "    </tr>\n",
              "    <tr>\n",
              "      <th>1</th>\n",
              "      <td>Low</td>\n",
              "      <td>7.756876</td>\n",
              "      <td>2.572287</td>\n",
              "      <td>Mega</td>\n",
              "      <td>67.574904</td>\n",
              "    </tr>\n",
              "    <tr>\n",
              "      <th>2</th>\n",
              "      <td>High</td>\n",
              "      <td>20.348988</td>\n",
              "      <td>1.227180</td>\n",
              "      <td>Micro</td>\n",
              "      <td>272.250108</td>\n",
              "    </tr>\n",
              "    <tr>\n",
              "      <th>3</th>\n",
              "      <td>Medium</td>\n",
              "      <td>20.108487</td>\n",
              "      <td>2.728374</td>\n",
              "      <td>Mega</td>\n",
              "      <td>195.102176</td>\n",
              "    </tr>\n",
              "    <tr>\n",
              "      <th>4</th>\n",
              "      <td>High</td>\n",
              "      <td>31.653200</td>\n",
              "      <td>7.776978</td>\n",
              "      <td>Nano</td>\n",
              "      <td>273.960377</td>\n",
              "    </tr>\n",
              "  </tbody>\n",
              "</table>\n",
              "</div>\n",
              "    <div class=\"colab-df-buttons\">\n",
              "\n",
              "  <div class=\"colab-df-container\">\n",
              "    <button class=\"colab-df-convert\" onclick=\"convertToInteractive('df-41e0d496-1556-4216-b028-5bd919d52a57')\"\n",
              "            title=\"Convert this dataframe to an interactive table.\"\n",
              "            style=\"display:none;\">\n",
              "\n",
              "  <svg xmlns=\"http://www.w3.org/2000/svg\" height=\"24px\" viewBox=\"0 -960 960 960\">\n",
              "    <path d=\"M120-120v-720h720v720H120Zm60-500h600v-160H180v160Zm220 220h160v-160H400v160Zm0 220h160v-160H400v160ZM180-400h160v-160H180v160Zm440 0h160v-160H620v160ZM180-180h160v-160H180v160Zm440 0h160v-160H620v160Z\"/>\n",
              "  </svg>\n",
              "    </button>\n",
              "\n",
              "  <style>\n",
              "    .colab-df-container {\n",
              "      display:flex;\n",
              "      gap: 12px;\n",
              "    }\n",
              "\n",
              "    .colab-df-convert {\n",
              "      background-color: #E8F0FE;\n",
              "      border: none;\n",
              "      border-radius: 50%;\n",
              "      cursor: pointer;\n",
              "      display: none;\n",
              "      fill: #1967D2;\n",
              "      height: 32px;\n",
              "      padding: 0 0 0 0;\n",
              "      width: 32px;\n",
              "    }\n",
              "\n",
              "    .colab-df-convert:hover {\n",
              "      background-color: #E2EBFA;\n",
              "      box-shadow: 0px 1px 2px rgba(60, 64, 67, 0.3), 0px 1px 3px 1px rgba(60, 64, 67, 0.15);\n",
              "      fill: #174EA6;\n",
              "    }\n",
              "\n",
              "    .colab-df-buttons div {\n",
              "      margin-bottom: 4px;\n",
              "    }\n",
              "\n",
              "    [theme=dark] .colab-df-convert {\n",
              "      background-color: #3B4455;\n",
              "      fill: #D2E3FC;\n",
              "    }\n",
              "\n",
              "    [theme=dark] .colab-df-convert:hover {\n",
              "      background-color: #434B5C;\n",
              "      box-shadow: 0px 1px 3px 1px rgba(0, 0, 0, 0.15);\n",
              "      filter: drop-shadow(0px 1px 2px rgba(0, 0, 0, 0.3));\n",
              "      fill: #FFFFFF;\n",
              "    }\n",
              "  </style>\n",
              "\n",
              "    <script>\n",
              "      const buttonEl =\n",
              "        document.querySelector('#df-41e0d496-1556-4216-b028-5bd919d52a57 button.colab-df-convert');\n",
              "      buttonEl.style.display =\n",
              "        google.colab.kernel.accessAllowed ? 'block' : 'none';\n",
              "\n",
              "      async function convertToInteractive(key) {\n",
              "        const element = document.querySelector('#df-41e0d496-1556-4216-b028-5bd919d52a57');\n",
              "        const dataTable =\n",
              "          await google.colab.kernel.invokeFunction('convertToInteractive',\n",
              "                                                    [key], {});\n",
              "        if (!dataTable) return;\n",
              "\n",
              "        const docLinkHtml = 'Like what you see? Visit the ' +\n",
              "          '<a target=\"_blank\" href=https://colab.research.google.com/notebooks/data_table.ipynb>data table notebook</a>'\n",
              "          + ' to learn more about interactive tables.';\n",
              "        element.innerHTML = '';\n",
              "        dataTable['output_type'] = 'display_data';\n",
              "        await google.colab.output.renderOutput(dataTable, element);\n",
              "        const docLink = document.createElement('div');\n",
              "        docLink.innerHTML = docLinkHtml;\n",
              "        element.appendChild(docLink);\n",
              "      }\n",
              "    </script>\n",
              "  </div>\n",
              "\n",
              "\n",
              "<div id=\"df-de5f2596-62c0-4b77-84ff-1f8a72747d11\">\n",
              "  <button class=\"colab-df-quickchart\" onclick=\"quickchart('df-de5f2596-62c0-4b77-84ff-1f8a72747d11')\"\n",
              "            title=\"Suggest charts\"\n",
              "            style=\"display:none;\">\n",
              "\n",
              "<svg xmlns=\"http://www.w3.org/2000/svg\" height=\"24px\"viewBox=\"0 0 24 24\"\n",
              "     width=\"24px\">\n",
              "    <g>\n",
              "        <path d=\"M19 3H5c-1.1 0-2 .9-2 2v14c0 1.1.9 2 2 2h14c1.1 0 2-.9 2-2V5c0-1.1-.9-2-2-2zM9 17H7v-7h2v7zm4 0h-2V7h2v10zm4 0h-2v-4h2v4z\"/>\n",
              "    </g>\n",
              "</svg>\n",
              "  </button>\n",
              "\n",
              "<style>\n",
              "  .colab-df-quickchart {\n",
              "      --bg-color: #E8F0FE;\n",
              "      --fill-color: #1967D2;\n",
              "      --hover-bg-color: #E2EBFA;\n",
              "      --hover-fill-color: #174EA6;\n",
              "      --disabled-fill-color: #AAA;\n",
              "      --disabled-bg-color: #DDD;\n",
              "  }\n",
              "\n",
              "  [theme=dark] .colab-df-quickchart {\n",
              "      --bg-color: #3B4455;\n",
              "      --fill-color: #D2E3FC;\n",
              "      --hover-bg-color: #434B5C;\n",
              "      --hover-fill-color: #FFFFFF;\n",
              "      --disabled-bg-color: #3B4455;\n",
              "      --disabled-fill-color: #666;\n",
              "  }\n",
              "\n",
              "  .colab-df-quickchart {\n",
              "    background-color: var(--bg-color);\n",
              "    border: none;\n",
              "    border-radius: 50%;\n",
              "    cursor: pointer;\n",
              "    display: none;\n",
              "    fill: var(--fill-color);\n",
              "    height: 32px;\n",
              "    padding: 0;\n",
              "    width: 32px;\n",
              "  }\n",
              "\n",
              "  .colab-df-quickchart:hover {\n",
              "    background-color: var(--hover-bg-color);\n",
              "    box-shadow: 0 1px 2px rgba(60, 64, 67, 0.3), 0 1px 3px 1px rgba(60, 64, 67, 0.15);\n",
              "    fill: var(--button-hover-fill-color);\n",
              "  }\n",
              "\n",
              "  .colab-df-quickchart-complete:disabled,\n",
              "  .colab-df-quickchart-complete:disabled:hover {\n",
              "    background-color: var(--disabled-bg-color);\n",
              "    fill: var(--disabled-fill-color);\n",
              "    box-shadow: none;\n",
              "  }\n",
              "\n",
              "  .colab-df-spinner {\n",
              "    border: 2px solid var(--fill-color);\n",
              "    border-color: transparent;\n",
              "    border-bottom-color: var(--fill-color);\n",
              "    animation:\n",
              "      spin 1s steps(1) infinite;\n",
              "  }\n",
              "\n",
              "  @keyframes spin {\n",
              "    0% {\n",
              "      border-color: transparent;\n",
              "      border-bottom-color: var(--fill-color);\n",
              "      border-left-color: var(--fill-color);\n",
              "    }\n",
              "    20% {\n",
              "      border-color: transparent;\n",
              "      border-left-color: var(--fill-color);\n",
              "      border-top-color: var(--fill-color);\n",
              "    }\n",
              "    30% {\n",
              "      border-color: transparent;\n",
              "      border-left-color: var(--fill-color);\n",
              "      border-top-color: var(--fill-color);\n",
              "      border-right-color: var(--fill-color);\n",
              "    }\n",
              "    40% {\n",
              "      border-color: transparent;\n",
              "      border-right-color: var(--fill-color);\n",
              "      border-top-color: var(--fill-color);\n",
              "    }\n",
              "    60% {\n",
              "      border-color: transparent;\n",
              "      border-right-color: var(--fill-color);\n",
              "    }\n",
              "    80% {\n",
              "      border-color: transparent;\n",
              "      border-right-color: var(--fill-color);\n",
              "      border-bottom-color: var(--fill-color);\n",
              "    }\n",
              "    90% {\n",
              "      border-color: transparent;\n",
              "      border-bottom-color: var(--fill-color);\n",
              "    }\n",
              "  }\n",
              "</style>\n",
              "\n",
              "  <script>\n",
              "    async function quickchart(key) {\n",
              "      const quickchartButtonEl =\n",
              "        document.querySelector('#' + key + ' button');\n",
              "      quickchartButtonEl.disabled = true;  // To prevent multiple clicks.\n",
              "      quickchartButtonEl.classList.add('colab-df-spinner');\n",
              "      try {\n",
              "        const charts = await google.colab.kernel.invokeFunction(\n",
              "            'suggestCharts', [key], {});\n",
              "      } catch (error) {\n",
              "        console.error('Error during call to suggestCharts:', error);\n",
              "      }\n",
              "      quickchartButtonEl.classList.remove('colab-df-spinner');\n",
              "      quickchartButtonEl.classList.add('colab-df-quickchart-complete');\n",
              "    }\n",
              "    (() => {\n",
              "      let quickchartButtonEl =\n",
              "        document.querySelector('#df-de5f2596-62c0-4b77-84ff-1f8a72747d11 button');\n",
              "      quickchartButtonEl.style.display =\n",
              "        google.colab.kernel.accessAllowed ? 'block' : 'none';\n",
              "    })();\n",
              "  </script>\n",
              "</div>\n",
              "\n",
              "    </div>\n",
              "  </div>\n"
            ],
            "application/vnd.google.colaboratory.intrinsic+json": {
              "type": "dataframe",
              "variable_name": "df",
              "summary": "{\n  \"name\": \"df\",\n  \"rows\": 572,\n  \"fields\": [\n    {\n      \"column\": \"TV\",\n      \"properties\": {\n        \"dtype\": \"category\",\n        \"num_unique_values\": 3,\n        \"samples\": [\n          \"Low\",\n          \"High\",\n          \"Medium\"\n        ],\n        \"semantic_type\": \"\",\n        \"description\": \"\"\n      }\n    },\n    {\n      \"column\": \"Radio\",\n      \"properties\": {\n        \"dtype\": \"number\",\n        \"std\": 9.290933136959913,\n        \"min\": 0.109105522,\n        \"max\": 42.27157869,\n        \"num_unique_values\": 572,\n        \"samples\": [\n          10.42906573,\n          15.02521022,\n          22.2599302\n        ],\n        \"semantic_type\": \"\",\n        \"description\": \"\"\n      }\n    },\n    {\n      \"column\": \"Social Media\",\n      \"properties\": {\n        \"dtype\": \"number\",\n        \"std\": 2.238378203995895,\n        \"min\": 3.13e-05,\n        \"max\": 11.40362504,\n        \"num_unique_values\": 572,\n        \"samples\": [\n          4.37599992,\n          4.47224007,\n          3.354030175\n        ],\n        \"semantic_type\": \"\",\n        \"description\": \"\"\n      }\n    },\n    {\n      \"column\": \"Influencer\",\n      \"properties\": {\n        \"dtype\": \"category\",\n        \"num_unique_values\": 4,\n        \"samples\": [\n          \"Mega\",\n          \"Macro\",\n          \"Micro\"\n        ],\n        \"semantic_type\": \"\",\n        \"description\": \"\"\n      }\n    },\n    {\n      \"column\": \"Sales\",\n      \"properties\": {\n        \"dtype\": \"number\",\n        \"std\": 89.87158140351548,\n        \"min\": 33.50980953,\n        \"max\": 357.7881952,\n        \"num_unique_values\": 572,\n        \"samples\": [\n          138.4315947,\n          151.7553952,\n          283.2511074\n        ],\n        \"semantic_type\": \"\",\n        \"description\": \"\"\n      }\n    }\n  ]\n}"
            }
          },
          "metadata": {},
          "execution_count": 2
        }
      ]
    },
    {
      "cell_type": "markdown",
      "id": "97fe444c",
      "metadata": {
        "id": "97fe444c"
      },
      "source": [
        "## Step 3: Exploratory Data Analysis (EDA)\n",
        "### Task:\n",
        "Analyze the dataset to understand the distribution of variables, identify relationships between variables, and prepare the data for modeling.\n",
        "\n",
        "### Mini-task:\n",
        "Create a pairplot to visualize the relationships between continuous variables in the dataset.\n",
        "\n",
        "#### Hint:\n",
        "Use `seaborn.pairplot()` to create a pairplot of the continuous variables.\n",
        "\n",
        "```python\n",
        "import seaborn as sns\n",
        "\n",
        "# Create a pairplot of the continuous variables\n",
        "### YOUR CODE HERE ###\n",
        "```\n",
        "\n",
        "---"
      ]
    },
    {
      "cell_type": "code",
      "execution_count": null,
      "id": "88808dd2",
      "metadata": {
        "id": "88808dd2"
      },
      "outputs": [],
      "source": []
    },
    {
      "cell_type": "markdown",
      "id": "b15317f9",
      "metadata": {
        "id": "b15317f9"
      },
      "source": [
        "\n",
        "## Step 4: Data Preparation\n",
        "### Task:\n",
        "Prepare the data for regression analysis by handling missing values, encoding categorical variables, and splitting the data into training and testing sets.\n",
        "\n",
        "### Mini-task:\n",
        "Drop rows with missing values and encode categorical variables if necessary.\n",
        "\n",
        "#### Hint:\n",
        "Use `data.dropna()` to remove rows with missing values and `pd.get_dummies()` to encode categorical variables.\n",
        "\n",
        "```python\n",
        "# Drop rows with missing values\n",
        "### YOUR CODE HERE ###\n",
        "\n",
        "# Encode categorical variables (if needed)\n",
        "### YOUR CODE HERE ###\n",
        "```\n",
        "\n",
        "---"
      ]
    },
    {
      "cell_type": "code",
      "execution_count": null,
      "id": "f1353ae9",
      "metadata": {
        "id": "f1353ae9"
      },
      "outputs": [],
      "source": []
    },
    {
      "cell_type": "markdown",
      "id": "d0afda6d",
      "metadata": {
        "id": "d0afda6d"
      },
      "source": [
        "## Step 5: Model Building\n",
        "### Task:\n",
        "Fit a multiple linear regression model to predict sales using the selected independent variables.\n",
        "\n",
        "### Mini-task:\n",
        "Define the OLS formula and fit the model using the `statsmodels` library.\n",
        "\n",
        "#### Hint:\n",
        "Use `statsmodels.formula.api.ols()` to define the model and fit it to the data.\n",
        "\n",
        "```python\n",
        "import statsmodels.formula.api as smf\n",
        "\n",
        "# Define the OLS formula\n",
        "### YOUR CODE HERE ###\n",
        "\n",
        "# Fit the model\n",
        "### YOUR CODE HERE ###\n",
        "\n",
        "# Display the model summary\n",
        "### YOUR CODE HERE ###\n",
        "```\n",
        "\n",
        "---"
      ]
    },
    {
      "cell_type": "code",
      "execution_count": null,
      "id": "4de32a69",
      "metadata": {
        "id": "4de32a69"
      },
      "outputs": [],
      "source": []
    },
    {
      "cell_type": "markdown",
      "id": "b47d1dcd",
      "metadata": {
        "id": "b47d1dcd"
      },
      "source": [
        "## Step 6: Model Evaluation\n",
        "### Task:\n",
        "Evaluate the model by checking the regression assumptions, including linearity, independence, normality, constant variance, and multicollinearity.\n",
        "\n",
        "### Mini-task:\n",
        "Create scatterplots to check the linearity assumption and calculate the residuals to check the normality assumption.\n",
        "\n",
        "#### Hint:\n",
        "Use `seaborn.scatterplot()` to create scatterplots and `statsmodels.qqplot()` to check the normality of residuals.\n",
        "\n",
        "```python\n",
        "import matplotlib.pyplot as plt\n",
        "import statsmodels.api as sm\n",
        "\n",
        "# Create scatterplots for linearity\n",
        "### YOUR CODE HERE ###\n",
        "\n",
        "# Calculate residuals and create a Q-Q plot\n",
        "### YOUR CODE HERE ###\n",
        "```\n",
        "\n",
        "---"
      ]
    },
    {
      "cell_type": "code",
      "execution_count": null,
      "id": "529b6f14",
      "metadata": {
        "id": "529b6f14"
      },
      "outputs": [],
      "source": []
    },
    {
      "cell_type": "markdown",
      "id": "40bc142e",
      "metadata": {
        "id": "40bc142e"
      },
      "source": [
        "\n",
        "## Step 7: Results and Interpretation\n",
        "### Task:\n",
        "Interpret the model results, including the R-squared value, coefficients, and their statistical significance.\n",
        "\n",
        "### Mini-task:\n",
        "Display the model summary and interpret the coefficients.\n",
        "\n",
        "#### Hint:\n",
        "Use `model.summary()` to display the model results and interpret the coefficients.\n",
        "\n",
        "```python\n",
        "# Display the model summary\n",
        "### YOUR CODE HERE ###\n",
        "\n",
        "# Interpret the coefficients\n",
        "### YOUR CODE HERE ###\n",
        "```\n",
        "\n",
        "---"
      ]
    },
    {
      "cell_type": "code",
      "execution_count": null,
      "id": "6da21614",
      "metadata": {
        "id": "6da21614"
      },
      "outputs": [],
      "source": []
    },
    {
      "cell_type": "markdown",
      "id": "e0e505e6",
      "metadata": {
        "id": "e0e505e6"
      },
      "source": [
        "## Considerations\n",
        "**What are some key takeaways you learned from this project?**\n",
        "- Reflect on the importance of checking regression assumptions and interpreting model coefficients.\n",
        "- Consider how the model's insights can be used to optimize marketing strategies.\n",
        "\n",
        "**How would you share your findings with a team?**\n",
        "- Prepare a presentation with visualizations and key metrics.\n",
        "- Discuss the impact of different marketing strategies on sales.\n",
        "\n",
        "**What would you share with and recommend to stakeholders?**\n",
        "- Highlight the key factors that contribute most to sales.\n",
        "- Recommend strategies to optimize marketing efforts based on the model's insights."
      ]
    },
    {
      "cell_type": "markdown",
      "id": "3d44ea8e",
      "metadata": {
        "id": "3d44ea8e"
      },
      "source": []
    },
    {
      "cell_type": "code",
      "source": [
        "!git init"
      ],
      "metadata": {
        "colab": {
          "base_uri": "https://localhost:8080/"
        },
        "id": "nG-0O94RFFYx",
        "outputId": "bc4aedfb-4aff-4390-ec7f-0173e688118e"
      },
      "id": "nG-0O94RFFYx",
      "execution_count": 2,
      "outputs": [
        {
          "output_type": "stream",
          "name": "stdout",
          "text": [
            "\u001b[33mhint: Using 'master' as the name for the initial branch. This default branch name\u001b[m\n",
            "\u001b[33mhint: is subject to change. To configure the initial branch name to use in all\u001b[m\n",
            "\u001b[33mhint: of your new repositories, which will suppress this warning, call:\u001b[m\n",
            "\u001b[33mhint: \u001b[m\n",
            "\u001b[33mhint: \tgit config --global init.defaultBranch <name>\u001b[m\n",
            "\u001b[33mhint: \u001b[m\n",
            "\u001b[33mhint: Names commonly chosen instead of 'master' are 'main', 'trunk' and\u001b[m\n",
            "\u001b[33mhint: 'development'. The just-created branch can be renamed via this command:\u001b[m\n",
            "\u001b[33mhint: \u001b[m\n",
            "\u001b[33mhint: \tgit branch -m <name>\u001b[m\n",
            "Initialized empty Git repository in /content/.git/\n"
          ]
        }
      ]
    },
    {
      "cell_type": "markdown",
      "metadata": {
        "id": "340815eb"
      },
      "source": [
        "# Task\n",
        "Explain the error in the selected code. If possible, fix the error and incorporate the changes into the existing code. Otherwise, try to diagnose the error. Link this project to my GitHub repository."
      ],
      "id": "340815eb"
    },
    {
      "cell_type": "markdown",
      "metadata": {
        "id": "9f22deb4"
      },
      "source": [
        "## Install and configure git\n",
        "\n",
        "### Subtask:\n",
        "Ensure Git is installed and configured with your username and email.\n"
      ],
      "id": "9f22deb4"
    },
    {
      "cell_type": "markdown",
      "metadata": {
        "id": "f01ea7f8"
      },
      "source": [
        "**Reasoning**:\n",
        "Check if Git is installed.\n",
        "\n"
      ],
      "id": "f01ea7f8"
    },
    {
      "cell_type": "code",
      "source": [
        "!git init"
      ],
      "metadata": {
        "colab": {
          "base_uri": "https://localhost:8080/"
        },
        "id": "oSuGtHAC_zGj",
        "outputId": "be72f6b0-741c-426b-cd76-e653503afa89"
      },
      "id": "oSuGtHAC_zGj",
      "execution_count": 2,
      "outputs": [
        {
          "output_type": "stream",
          "name": "stdout",
          "text": [
            "\u001b[33mhint: Using 'master' as the name for the initial branch. This default branch name\u001b[m\n",
            "\u001b[33mhint: is subject to change. To configure the initial branch name to use in all\u001b[m\n",
            "\u001b[33mhint: of your new repositories, which will suppress this warning, call:\u001b[m\n",
            "\u001b[33mhint: \u001b[m\n",
            "\u001b[33mhint: \tgit config --global init.defaultBranch <name>\u001b[m\n",
            "\u001b[33mhint: \u001b[m\n",
            "\u001b[33mhint: Names commonly chosen instead of 'master' are 'main', 'trunk' and\u001b[m\n",
            "\u001b[33mhint: 'development'. The just-created branch can be renamed via this command:\u001b[m\n",
            "\u001b[33mhint: \u001b[m\n",
            "\u001b[33mhint: \tgit branch -m <name>\u001b[m\n",
            "Initialized empty Git repository in /content/.git/\n"
          ]
        }
      ]
    },
    {
      "cell_type": "code",
      "source": [
        "!git commit -m \"Initial commit of project files\""
      ],
      "metadata": {
        "colab": {
          "base_uri": "https://localhost:8080/"
        },
        "id": "LzdY3Aw3A_iS",
        "outputId": "61e97c4c-0109-4c61-9c8c-020a5f26fca8"
      },
      "id": "LzdY3Aw3A_iS",
      "execution_count": 4,
      "outputs": [
        {
          "output_type": "stream",
          "name": "stdout",
          "text": [
            "Author identity unknown\n",
            "\n",
            "*** Please tell me who you are.\n",
            "\n",
            "Run\n",
            "\n",
            "  git config --global user.email \"you@example.com\"\n",
            "  git config --global user.name \"Your Name\"\n",
            "\n",
            "to set your account's default identity.\n",
            "Omit --global to set the identity only in this repository.\n",
            "\n",
            "fatal: unable to auto-detect email address (got 'root@235200cfe521.(none)')\n"
          ]
        }
      ]
    },
    {
      "cell_type": "code",
      "metadata": {
        "id": "fd4a66d1"
      },
      "source": [
        "!git config --global user.email \"sadansabo@gmail.com\"\n",
        "!git config --global user.name \"sadansabo\""
      ],
      "id": "fd4a66d1",
      "execution_count": 6,
      "outputs": []
    },
    {
      "cell_type": "code",
      "source": [
        "!git push -u origin master"
      ],
      "metadata": {
        "colab": {
          "base_uri": "https://localhost:8080/"
        },
        "id": "B22anS76CKKt",
        "outputId": "c65bdc42-7215-45ef-90df-f6775eeeb963"
      },
      "id": "B22anS76CKKt",
      "execution_count": 9,
      "outputs": [
        {
          "output_type": "stream",
          "name": "stdout",
          "text": [
            "error: src refspec master does not match any\n",
            "\u001b[31merror: failed to push some refs to 'origin'\n",
            "\u001b[m"
          ]
        }
      ]
    },
    {
      "cell_type": "code",
      "source": [],
      "metadata": {
        "id": "AhxwWaZPCN0f"
      },
      "id": "AhxwWaZPCN0f",
      "execution_count": null,
      "outputs": []
    },
    {
      "cell_type": "code",
      "metadata": {
        "colab": {
          "base_uri": "https://localhost:8080/"
        },
        "id": "a445c8af",
        "outputId": "834c5252-6b13-4b63-c250-5d0d79f2ad78"
      },
      "source": [
        "!git status\n",
        "!git branch"
      ],
      "id": "a445c8af",
      "execution_count": 10,
      "outputs": [
        {
          "output_type": "stream",
          "name": "stdout",
          "text": [
            "On branch master\n",
            "\n",
            "No commits yet\n",
            "\n",
            "Untracked files:\n",
            "  (use \"git add <file>...\" to include in what will be committed)\n",
            "\t\u001b[31m.config/\u001b[m\n",
            "\t\u001b[31msample_data/\u001b[m\n",
            "\n",
            "nothing added to commit but untracked files present (use \"git add\" to track)\n"
          ]
        }
      ]
    },
    {
      "cell_type": "code",
      "metadata": {
        "colab": {
          "base_uri": "https://localhost:8080/"
        },
        "id": "3309f016",
        "outputId": "3da55609-681a-486c-df79-be8debe6c4bd"
      },
      "source": [
        "!git add .\n",
        "!git commit -m \"Initial commit\""
      ],
      "id": "3309f016",
      "execution_count": 11,
      "outputs": [
        {
          "output_type": "stream",
          "name": "stdout",
          "text": [
            "[master (root-commit) aa0c1af] Initial commit\n",
            " 21 files changed, 51025 insertions(+)\n",
            " create mode 100644 .config/.last_opt_in_prompt.yaml\n",
            " create mode 100644 .config/.last_survey_prompt.yaml\n",
            " create mode 100644 .config/.last_update_check.json\n",
            " create mode 100644 .config/active_config\n",
            " create mode 100644 .config/config_sentinel\n",
            " create mode 100644 .config/configurations/config_default\n",
            " create mode 100644 .config/default_configs.db\n",
            " create mode 100644 .config/gce\n",
            " create mode 100644 .config/hidden_gcloud_config_universe_descriptor_data_cache_configs.db\n",
            " create mode 100644 .config/logs/2025.08.14/13.34.48.261592.log\n",
            " create mode 100644 .config/logs/2025.08.14/13.35.24.373035.log\n",
            " create mode 100644 .config/logs/2025.08.14/13.35.33.045372.log\n",
            " create mode 100644 .config/logs/2025.08.14/13.35.36.983070.log\n",
            " create mode 100644 .config/logs/2025.08.14/13.35.45.872550.log\n",
            " create mode 100644 .config/logs/2025.08.14/13.35.46.562476.log\n",
            " create mode 100755 sample_data/README.md\n",
            " create mode 100755 sample_data/anscombe.json\n",
            " create mode 100644 sample_data/california_housing_test.csv\n",
            " create mode 100644 sample_data/california_housing_train.csv\n",
            " create mode 100644 sample_data/mnist_test.csv\n",
            " create mode 100644 sample_data/mnist_train_small.csv\n"
          ]
        }
      ]
    },
    {
      "cell_type": "markdown",
      "metadata": {
        "id": "18e450bc"
      },
      "source": [
        "## Push changes to GitHub\n",
        "\n",
        "### Subtask:\n",
        "Push your committed changes from your local repository to the GitHub repository.\n",
        "\n",
        "#### Hint:\n",
        "Use `git push origin master` to push your changes to the `master` branch."
      ],
      "id": "18e450bc"
    },
    {
      "cell_type": "code",
      "metadata": {
        "colab": {
          "base_uri": "https://localhost:8080/"
        },
        "id": "66c45178",
        "outputId": "97c504c4-0a2d-4e1b-9897-b694feff478e"
      },
      "source": [
        "!git push origin master"
      ],
      "id": "66c45178",
      "execution_count": 12,
      "outputs": [
        {
          "output_type": "stream",
          "name": "stdout",
          "text": [
            "fatal: 'origin' does not appear to be a git repository\n",
            "fatal: Could not read from remote repository.\n",
            "\n",
            "Please make sure you have the correct access rights\n",
            "and the repository exists.\n"
          ]
        }
      ]
    },
    {
      "cell_type": "code",
      "metadata": {
        "id": "df0c328d"
      },
      "source": [
        "!git remote -v"
      ],
      "id": "df0c328d",
      "execution_count": 13,
      "outputs": []
    },
    {
      "cell_type": "code",
      "metadata": {
        "colab": {
          "base_uri": "https://localhost:8080/"
        },
        "id": "ea9f11c1",
        "outputId": "67e595ec-dc39-40ae-bb6d-08ce153dfc14"
      },
      "source": [
        "!git remote add origin <repository_url>"
      ],
      "id": "ea9f11c1",
      "execution_count": 14,
      "outputs": [
        {
          "output_type": "stream",
          "name": "stdout",
          "text": [
            "/bin/bash: -c: line 1: syntax error near unexpected token `newline'\n",
            "/bin/bash: -c: line 1: `git remote add origin <repository_url>'\n"
          ]
        }
      ]
    },
    {
      "cell_type": "code",
      "metadata": {
        "id": "add592e6"
      },
      "source": [
        "!git remote add origin https://github.com/sadansabo/MULTIPLE-LINEAR-REGRESSION.git"
      ],
      "id": "add592e6",
      "execution_count": 16,
      "outputs": []
    },
    {
      "cell_type": "markdown",
      "metadata": {
        "id": "1ab6b246"
      },
      "source": [
        "## Push changes to GitHub\n",
        "\n",
        "### Subtask:\n",
        "Push your committed changes from your local repository to the GitHub repository.\n",
        "\n",
        "#### Hint:\n",
        "Use `git push origin master` to push your changes to the `master` branch."
      ],
      "id": "1ab6b246"
    },
    {
      "cell_type": "code",
      "metadata": {
        "colab": {
          "base_uri": "https://localhost:8080/"
        },
        "id": "dd0633fa",
        "outputId": "a0453e15-3f82-4895-92d3-76f3247baa54"
      },
      "source": [
        "!git push origin master"
      ],
      "id": "dd0633fa",
      "execution_count": 17,
      "outputs": [
        {
          "output_type": "stream",
          "name": "stdout",
          "text": [
            "fatal: could not read Username for 'https://github.com': No such device or address\n"
          ]
        }
      ]
    },
    {
      "cell_type": "markdown",
      "metadata": {
        "id": "1ed66249"
      },
      "source": [
        "## Generate an SSH Key Pair in Colab\n",
        "\n",
        "### Subtask:\n",
        "Generate an SSH key pair using `ssh-keygen`.\n",
        "\n",
        "#### Hint:\n",
        "Run the `ssh-keygen` command in a code cell. You can use the default file location and optionally set a passphrase."
      ],
      "id": "1ed66249"
    },
    {
      "cell_type": "code",
      "metadata": {
        "colab": {
          "base_uri": "https://localhost:8080/"
        },
        "id": "9367ced2",
        "outputId": "c429ebd5-2080-4fab-e333-31dcf95ef21b"
      },
      "source": [
        "!ssh-keygen -t rsa -b 4096 -C \"sadansabo@gmail.com\""
      ],
      "id": "9367ced2",
      "execution_count": 19,
      "outputs": [
        {
          "output_type": "stream",
          "name": "stdout",
          "text": [
            "Generating public/private rsa key pair.\n",
            "Enter file in which to save the key (/root/.ssh/id_rsa): /content/sample_data/README.md\n",
            "/content/sample_data/README.md already exists.\n",
            "Overwrite (y/n)? y\n",
            "Enter passphrase (empty for no passphrase): 3mtt\n",
            "Enter same passphrase again: 3mtt\n",
            "Your identification has been saved in /content/sample_data/README.md\n",
            "Your public key has been saved in /content/sample_data/README.md.pub\n",
            "The key fingerprint is:\n",
            "SHA256:m5HbxwXzBX2sLkODBxNxG8FnJlwihKhDKr7zaXCkTAQ sadansabo@gmail.com\n",
            "The key's randomart image is:\n",
            "+---[RSA 4096]----+\n",
            "|E      . o===ooo |\n",
            "| .  . . . oo+++.+|\n",
            "|.  o .     ++= .o|\n",
            "|....o    .. ++.. |\n",
            "|+.o  .  S  o oo  |\n",
            "| = .     * .o..  |\n",
            "|  +     + . oo   |\n",
            "| o ..      .     |\n",
            "|  +o             |\n",
            "+----[SHA256]-----+\n"
          ]
        }
      ]
    },
    {
      "cell_type": "code",
      "source": [
        "h"
      ],
      "metadata": {
        "id": "dzP5Z7psGoBe"
      },
      "id": "dzP5Z7psGoBe",
      "execution_count": null,
      "outputs": []
    },
    {
      "cell_type": "markdown",
      "metadata": {
        "id": "17be8d18"
      },
      "source": [
        "## Copy your Public SSH Key\n",
        "\n",
        "### Subtask:\n",
        "Display the content of your public SSH key file to copy it.\n",
        "\n",
        "#### Hint:\n",
        "Use the `cat` command to display the content of the `.pub` file. Remember to use the path where your key was saved."
      ],
      "id": "17be8d18"
    },
    {
      "cell_type": "code",
      "metadata": {
        "colab": {
          "base_uri": "https://localhost:8080/"
        },
        "id": "9d77308c",
        "outputId": "5c8ce512-2b54-4774-fbe0-2ef37e44f848"
      },
      "source": [
        "!cat /content/sample_data/README.md.pub"
      ],
      "id": "9d77308c",
      "execution_count": 20,
      "outputs": [
        {
          "output_type": "stream",
          "name": "stdout",
          "text": [
            "ssh-rsa AAAAB3NzaC1yc2EAAAADAQABAAACAQC+fjLLNimue/LUX91Ru4DkaeiBRWcbAFLE3ExuVbJW0uL5v33rhc2UpwuWlUbCPGhGRzlb4I9EwG3j6Q1tAZgWsRTdxs8iF287pi0dxNCdyKfA5aN5OIwCQ4XsFtAxa3sxKr1yu5pfQh6RvVTLJG0Tf3c7ls5yZ8Ee89exgvDFxWDEp5GeurGzD2kwjOOymDcgb2Vc+F6Cm77wKemlN/Z9VkhkvwdnYtUTGAH1D/qHfA5uoTF+0wIl4GFXsW8ST2UF4pVm+9jMatuWdEgc21L5Q1WCNBqoHLA8JmQ7QzEkXxHxSnSALvkG4W+d7Hi1g2FYPXgG41dDXPDHbONCrqw+cXUU0PmS10wA48SMGo7jiAVoyUU7rgEvzZUtCVeOIlnM+NxQy5DtqLI0UC/7hhQO2QxtXPqRyY1EIJyLp1e/kA0dGcs55ChYJPp3sUl2dNfcGU8c/XNTSVfxUfA8praZJeNWuiOYX56RPt5TbOrQEAi0KuE8kllXp2z0oYCL+1qYzPmEPNk/SApNDFMYKiV8SLQV2ll5W9q1K8+TePZbh/TKVhJiiLmWUcUtllbDIrmAq8WenYpGifDG8vZAT841VuBLbEDXLjOuP5RwCR/RGNl6kt/hMOiP8oZNVKu0q1+f0Oc0jVgDOulsWZnejoqoa43FHYHomdQnIkM+p14enw== sadansabo@gmail.com\n"
          ]
        }
      ]
    },
    {
      "cell_type": "markdown",
      "metadata": {
        "id": "f1e4452e"
      },
      "source": [
        "## Update Remote URL to SSH\n",
        "\n",
        "### Subtask:\n",
        "Remove the existing HTTPS remote origin.\n",
        "\n",
        "#### Hint:\n",
        "Use `git remote remove origin`."
      ],
      "id": "f1e4452e"
    },
    {
      "cell_type": "code",
      "metadata": {
        "id": "fc4039d7"
      },
      "source": [
        "!git remote remove origin"
      ],
      "id": "fc4039d7",
      "execution_count": 21,
      "outputs": []
    },
    {
      "cell_type": "markdown",
      "metadata": {
        "id": "ca135da8"
      },
      "source": [
        "### Subtask:\n",
        "Add the remote origin again using the SSH URL format.\n",
        "\n",
        "#### Hint:\n",
        "Use `git remote add origin git@github.com:your_username/your_repository_name.git`. Replace `your_username` and `your_repository_name` with your GitHub username and repository name."
      ],
      "id": "ca135da8"
    },
    {
      "cell_type": "code",
      "metadata": {
        "colab": {
          "base_uri": "https://localhost:8080/"
        },
        "id": "75ae2bb8",
        "outputId": "a77403fd-bf19-4e59-eff5-9f1a71ec218c"
      },
      "source": [
        "!git remote add origin git@github.com:sadansabo/MULTIPLE-LINEAR-REGRESSION.git"
      ],
      "id": "75ae2bb8",
      "execution_count": 23,
      "outputs": [
        {
          "output_type": "stream",
          "name": "stdout",
          "text": [
            "error: remote origin already exists.\n"
          ]
        }
      ]
    },
    {
      "cell_type": "markdown",
      "metadata": {
        "id": "fdc462ce"
      },
      "source": [
        "## Push changes to GitHub\n",
        "\n",
        "### Subtask:\n",
        "Push your committed changes from your local repository to the GitHub repository.\n",
        "\n",
        "#### Hint:\n",
        "Use `git push origin master` to push your changes to the `master` branch."
      ],
      "id": "fdc462ce"
    },
    {
      "cell_type": "code",
      "metadata": {
        "colab": {
          "base_uri": "https://localhost:8080/"
        },
        "id": "d47b8e7f",
        "outputId": "fdd6c70a-f7ea-49cc-f65d-f887ceabd0e6"
      },
      "source": [
        "!git push origin master"
      ],
      "id": "d47b8e7f",
      "execution_count": 24,
      "outputs": [
        {
          "output_type": "stream",
          "name": "stdout",
          "text": [
            "Host key verification failed.\r\n",
            "fatal: Could not read from remote repository.\n",
            "\n",
            "Please make sure you have the correct access rights\n",
            "and the repository exists.\n"
          ]
        }
      ]
    }
  ],
  "metadata": {
    "kernelspec": {
      "display_name": "Python 3 (ipykernel)",
      "language": "python",
      "name": "python3"
    },
    "language_info": {
      "codemirror_mode": {
        "name": "ipython",
        "version": 3
      },
      "file_extension": ".py",
      "mimetype": "text/x-python",
      "name": "python",
      "nbconvert_exporter": "python",
      "pygments_lexer": "ipython3",
      "version": "3.9.13"
    },
    "colab": {
      "provenance": [],
      "include_colab_link": true
    }
  },
  "nbformat": 4,
  "nbformat_minor": 5
}